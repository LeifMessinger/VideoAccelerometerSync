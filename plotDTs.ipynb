{
 "cells": [
  {
   "cell_type": "code",
   "execution_count": 23,
   "metadata": {},
   "outputs": [],
   "source": [
    "filename = \"Phone_Test_02.csv\""
   ]
  },
  {
   "cell_type": "code",
   "execution_count": 24,
   "metadata": {},
   "outputs": [
    {
     "data": {
      "text/html": [
       "<div>\n",
       "<style scoped>\n",
       "    .dataframe tbody tr th:only-of-type {\n",
       "        vertical-align: middle;\n",
       "    }\n",
       "\n",
       "    .dataframe tbody tr th {\n",
       "        vertical-align: top;\n",
       "    }\n",
       "\n",
       "    .dataframe thead th {\n",
       "        text-align: right;\n",
       "    }\n",
       "</style>\n",
       "<table border=\"1\" class=\"dataframe\">\n",
       "  <thead>\n",
       "    <tr style=\"text-align: right;\">\n",
       "      <th></th>\n",
       "      <th>Time (s)</th>\n",
       "      <th>Linear Acceleration x (m/s^2)</th>\n",
       "      <th>Linear Acceleration y (m/s^2)</th>\n",
       "      <th>Linear Acceleration z (m/s^2)</th>\n",
       "      <th>Absolute acceleration (m/s^2)</th>\n",
       "    </tr>\n",
       "  </thead>\n",
       "  <tbody>\n",
       "    <tr>\n",
       "      <th>0</th>\n",
       "      <td>0.006639</td>\n",
       "      <td>0.076850</td>\n",
       "      <td>-0.106333</td>\n",
       "      <td>0.062431</td>\n",
       "      <td>0.145294</td>\n",
       "    </tr>\n",
       "    <tr>\n",
       "      <th>1</th>\n",
       "      <td>0.016673</td>\n",
       "      <td>-0.038141</td>\n",
       "      <td>-0.001415</td>\n",
       "      <td>0.121049</td>\n",
       "      <td>0.126924</td>\n",
       "    </tr>\n",
       "    <tr>\n",
       "      <th>2</th>\n",
       "      <td>0.026706</td>\n",
       "      <td>-0.200776</td>\n",
       "      <td>0.010386</td>\n",
       "      <td>0.236581</td>\n",
       "      <td>0.310467</td>\n",
       "    </tr>\n",
       "    <tr>\n",
       "      <th>3</th>\n",
       "      <td>0.036740</td>\n",
       "      <td>-0.217336</td>\n",
       "      <td>-0.012603</td>\n",
       "      <td>0.281888</td>\n",
       "      <td>0.356167</td>\n",
       "    </tr>\n",
       "    <tr>\n",
       "      <th>4</th>\n",
       "      <td>0.046774</td>\n",
       "      <td>-0.245673</td>\n",
       "      <td>0.044575</td>\n",
       "      <td>0.124677</td>\n",
       "      <td>0.279081</td>\n",
       "    </tr>\n",
       "    <tr>\n",
       "      <th>...</th>\n",
       "      <td>...</td>\n",
       "      <td>...</td>\n",
       "      <td>...</td>\n",
       "      <td>...</td>\n",
       "      <td>...</td>\n",
       "    </tr>\n",
       "    <tr>\n",
       "      <th>4298</th>\n",
       "      <td>43.132862</td>\n",
       "      <td>0.230484</td>\n",
       "      <td>-0.193356</td>\n",
       "      <td>1.458152</td>\n",
       "      <td>1.488865</td>\n",
       "    </tr>\n",
       "    <tr>\n",
       "      <th>4299</th>\n",
       "      <td>43.142896</td>\n",
       "      <td>0.617900</td>\n",
       "      <td>-0.389769</td>\n",
       "      <td>0.663101</td>\n",
       "      <td>0.986622</td>\n",
       "    </tr>\n",
       "    <tr>\n",
       "      <th>4300</th>\n",
       "      <td>43.152930</td>\n",
       "      <td>0.629180</td>\n",
       "      <td>0.073001</td>\n",
       "      <td>-0.274213</td>\n",
       "      <td>0.690210</td>\n",
       "    </tr>\n",
       "    <tr>\n",
       "      <th>4301</th>\n",
       "      <td>43.162965</td>\n",
       "      <td>-0.101054</td>\n",
       "      <td>0.538376</td>\n",
       "      <td>-0.485418</td>\n",
       "      <td>0.731909</td>\n",
       "    </tr>\n",
       "    <tr>\n",
       "      <th>4302</th>\n",
       "      <td>43.172999</td>\n",
       "      <td>-0.726862</td>\n",
       "      <td>0.231452</td>\n",
       "      <td>-0.194350</td>\n",
       "      <td>0.787192</td>\n",
       "    </tr>\n",
       "  </tbody>\n",
       "</table>\n",
       "<p>4303 rows × 5 columns</p>\n",
       "</div>"
      ],
      "text/plain": [
       "       Time (s)  Linear Acceleration x (m/s^2)  Linear Acceleration y (m/s^2)  \\\n",
       "0      0.006639                       0.076850                      -0.106333   \n",
       "1      0.016673                      -0.038141                      -0.001415   \n",
       "2      0.026706                      -0.200776                       0.010386   \n",
       "3      0.036740                      -0.217336                      -0.012603   \n",
       "4      0.046774                      -0.245673                       0.044575   \n",
       "...         ...                            ...                            ...   \n",
       "4298  43.132862                       0.230484                      -0.193356   \n",
       "4299  43.142896                       0.617900                      -0.389769   \n",
       "4300  43.152930                       0.629180                       0.073001   \n",
       "4301  43.162965                      -0.101054                       0.538376   \n",
       "4302  43.172999                      -0.726862                       0.231452   \n",
       "\n",
       "      Linear Acceleration z (m/s^2)  Absolute acceleration (m/s^2)  \n",
       "0                          0.062431                       0.145294  \n",
       "1                          0.121049                       0.126924  \n",
       "2                          0.236581                       0.310467  \n",
       "3                          0.281888                       0.356167  \n",
       "4                          0.124677                       0.279081  \n",
       "...                             ...                            ...  \n",
       "4298                       1.458152                       1.488865  \n",
       "4299                       0.663101                       0.986622  \n",
       "4300                      -0.274213                       0.690210  \n",
       "4301                      -0.485418                       0.731909  \n",
       "4302                      -0.194350                       0.787192  \n",
       "\n",
       "[4303 rows x 5 columns]"
      ]
     },
     "execution_count": 24,
     "metadata": {},
     "output_type": "execute_result"
    }
   ],
   "source": [
    "import pandas as pd\n",
    "data = pd.read_csv(filename)\n",
    "data"
   ]
  },
  {
   "cell_type": "code",
   "execution_count": 25,
   "metadata": {},
   "outputs": [
    {
     "data": {
      "text/plain": [
       "[<matplotlib.lines.Line2D at 0x23d03730ec0>]"
      ]
     },
     "execution_count": 25,
     "metadata": {},
     "output_type": "execute_result"
    },
    {
     "data": {
      "image/png": "[encoded data removed]",
      "text/plain": [
       "<Figure size 640x480 with 1 Axes>"
      ]
     },
     "metadata": {},
     "output_type": "display_data"
    }
   ],
   "source": [
    "import matplotlib.pyplot as plt\n",
    "import numpy as np\n",
    "plt.plot(np.diff(data[\"Time (s)\"].values) * 1000)"
   ]
  },
  {
   "cell_type": "code",
   "execution_count": 26,
   "metadata": {},
   "outputs": [
    {
     "name": "stdout",
     "output_type": "stream",
     "text": [
      "Sensor rate is 99.66094026490397 samples per second. One sample every 10.034021326127847 miliseconds.\n"
     ]
    }
   ],
   "source": [
    "print(\"Sensor rate is\", 1.0 / np.diff(data[\"Time (s)\"].values).mean(), \"samples per second. One sample every\", np.diff(data[\"Time (s)\"].values).mean() * 1000, \"miliseconds.\")"
   ]
  }
 ],
 "metadata": {
  "kernelspec": {
   "display_name": ".venv",
   "language": "python",
   "name": "python3"
  },
  "language_info": {
   "codemirror_mode": {
    "name": "ipython",
    "version": 3
   },
   "file_extension": ".py",
   "mimetype": "text/x-python",
   "name": "python",
   "nbconvert_exporter": "python",
   "pygments_lexer": "ipython3",
   "version": "3.12.4"
  }
 },
 "nbformat": 4,
 "nbformat_minor": 2
}
